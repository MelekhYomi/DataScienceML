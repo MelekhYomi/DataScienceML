{
 "cells": [
  {
   "cell_type": "code",
   "execution_count": 2,
   "id": "6253949f-adcf-44d2-b0d4-fa9164bcb876",
   "metadata": {},
   "outputs": [
    {
     "name": "stdout",
     "output_type": "stream",
     "text": [
      "Hello, Yomi is happy meeting you\n"
     ]
    }
   ],
   "source": [
    "message = \"Hello, Yomi is happy meeting you\"\n",
    "print(message)"
   ]
  },
  {
   "cell_type": "code",
   "execution_count": 3,
   "id": "a325edba-d7d4-4734-92c1-e483973b82b5",
   "metadata": {},
   "outputs": [
    {
     "name": "stdout",
     "output_type": "stream",
     "text": [
      "Emmanuel\n",
      "Kusimi\n",
      "Tomiwa\n",
      "Daniel\n"
     ]
    }
   ],
   "source": [
    "names = ['Emmanuel', 'Kusimi', 'Tomiwa', 'Daniel']\n",
    "print(names[0])\n",
    "print(names[1])\n",
    "print(names[2])\n",
    "print(names[3])"
   ]
  },
  {
   "cell_type": "code",
   "execution_count": 4,
   "id": "c08cbf3a-3007-487d-8fd0-e2717c2868eb",
   "metadata": {},
   "outputs": [
    {
     "name": "stdout",
     "output_type": "stream",
     "text": [
      "Emmanuel\n",
      "Kusimi\n",
      "Tomiwa\n",
      "Daniel\n"
     ]
    }
   ],
   "source": [
    "for name in names:\n",
    "    print(name)"
   ]
  },
  {
   "cell_type": "code",
   "execution_count": 5,
   "id": "e3100627-967c-4abb-ad6c-03c5c4f2308c",
   "metadata": {},
   "outputs": [
    {
     "name": "stdout",
     "output_type": "stream",
     "text": [
      "Hello Emmanuel, I would love to invite you to dinner.\n",
      "Hello Kusimi, I would love to invite you to dinner.\n",
      "Hello Tomiwa, I would love to invite you to dinner.\n",
      "Hello Daniel, I would love to invite you to dinner.\n"
     ]
    }
   ],
   "source": [
    "dinner_guests = ['Emmanuel', 'Kusimi', 'Tomiwa', 'Daniel']\n",
    "for guest in dinner_guests:\n",
    "    print(f\"Hello {guest}, I would love to invite you to dinner.\")"
   ]
  },
  {
   "cell_type": "code",
   "execution_count": 6,
   "id": "803682ad-71c4-4e00-b51f-199ac29307bd",
   "metadata": {},
   "outputs": [
    {
     "name": "stdout",
     "output_type": "stream",
     "text": [
      "Unfortunately, Daniel can't make it to dinner.\n"
     ]
    }
   ],
   "source": [
    "unable_to_come = 'Michael'\n",
    "print(f\"Unfortunately, {(names[3])} can't make it to dinner.\")"
   ]
  },
  {
   "cell_type": "code",
   "execution_count": 7,
   "id": "00f195e9-4924-4a5f-9806-26f773d56884",
   "metadata": {},
   "outputs": [],
   "source": [
    "dinner_guests[dinner_guests.index(names[3])] = 'Stanley'"
   ]
  },
  {
   "cell_type": "code",
   "execution_count": 8,
   "id": "40e9ce7f-637e-4088-b6e9-4aaa690c6cdc",
   "metadata": {},
   "outputs": [
    {
     "name": "stdout",
     "output_type": "stream",
     "text": [
      "Hello Emmanuel, I would love to invite you to dinner.\n",
      "Hello Kusimi, I would love to invite you to dinner.\n",
      "Hello Tomiwa, I would love to invite you to dinner.\n",
      "Hello Stanley, I would love to invite you to dinner.\n"
     ]
    }
   ],
   "source": [
    "for guest in dinner_guests:\n",
    "    print(f\"Hello {guest}, I would love to invite you to dinner.\")"
   ]
  },
  {
   "cell_type": "code",
   "execution_count": 9,
   "id": "17f6e037-3630-401f-adf6-709f2f3cf3c7",
   "metadata": {},
   "outputs": [
    {
     "name": "stdout",
     "output_type": "stream",
     "text": [
      "I found a bigger dinner table, and now I can invite more people!\n"
     ]
    }
   ],
   "source": [
    "print(\"I found a bigger dinner table, and now I can invite more people!\")"
   ]
  },
  {
   "cell_type": "code",
   "execution_count": 11,
   "id": "7c66396a-66f6-441e-ae13-4d03d2402477",
   "metadata": {},
   "outputs": [],
   "source": [
    "dinner_guests.insert(0, 'Genesis')\n",
    "dinner_guests.insert(len(dinner_guests) // 2, 'Solomon')\n",
    "dinner_guests.append('Revelation')"
   ]
  },
  {
   "cell_type": "code",
   "execution_count": 12,
   "id": "18169375-0033-4bd5-bf7b-647960aadf68",
   "metadata": {},
   "outputs": [
    {
     "name": "stdout",
     "output_type": "stream",
     "text": [
      "Hello Genesis, I would love to invite you to dinner.\n",
      "Hello Olivia, I would love to invite you to dinner.\n",
      "Hello Emmanuel, I would love to invite you to dinner.\n",
      "Hello Solomon, I would love to invite you to dinner.\n",
      "Hello Kusimi, I would love to invite you to dinner.\n",
      "Hello Tomiwa, I would love to invite you to dinner.\n",
      "Hello Stanley, I would love to invite you to dinner.\n",
      "Hello Revelation, I would love to invite you to dinner.\n"
     ]
    }
   ],
   "source": [
    "for guest in dinner_guests:\n",
    "    print(f\"Hello {guest}, I would love to invite you to dinner.\")\n"
   ]
  },
  {
   "cell_type": "code",
   "execution_count": 13,
   "id": "f25a6177-3ea3-4ccf-ae1f-7417b7fef01e",
   "metadata": {},
   "outputs": [
    {
     "name": "stdout",
     "output_type": "stream",
     "text": [
      "You are an adult.\n"
     ]
    }
   ],
   "source": [
    "age = 25\n",
    "\n",
    "if age < 2:\n",
    "    print(\"You are a baby.\")\n",
    "elif age >= 2 and age < 4:\n",
    "    print(\"You are a toddler.\")\n",
    "elif age >= 4 and age < 13:\n",
    "    print(\"You are a kid.\")\n",
    "elif age >= 13 and age < 20:\n",
    "    print(\"You are a teenager.\")\n",
    "elif age >= 20 and age < 65:\n",
    "    print(\"You are an adult.\")\n",
    "else:\n",
    "    print(\"You are an elder.\")"
   ]
  },
  {
   "cell_type": "code",
   "execution_count": 14,
   "id": "effec16e-6fb2-44a2-a5ad-ac4eae2027d3",
   "metadata": {},
   "outputs": [],
   "source": [
    "def favorite_book(title):\n",
    "    print(f\"One of my favorite books is {title}.\")"
   ]
  },
  {
   "cell_type": "code",
   "execution_count": 15,
   "id": "32c59d5f-ed49-43f7-9199-255d41807dbd",
   "metadata": {},
   "outputs": [
    {
     "name": "stdout",
     "output_type": "stream",
     "text": [
      "One of my favorite books is The Great Gatsby.\n"
     ]
    }
   ],
   "source": [
    "favorite_book(\"The Great Gatsby\")"
   ]
  },
  {
   "cell_type": "code",
   "execution_count": null,
   "id": "bd320a01-85a4-4f52-9ecd-9a3f8061d957",
   "metadata": {},
   "outputs": [],
   "source": []
  }
 ],
 "metadata": {
  "kernelspec": {
   "display_name": "Python 3 (ipykernel)",
   "language": "python",
   "name": "python3"
  },
  "language_info": {
   "codemirror_mode": {
    "name": "ipython",
    "version": 3
   },
   "file_extension": ".py",
   "mimetype": "text/x-python",
   "name": "python",
   "nbconvert_exporter": "python",
   "pygments_lexer": "ipython3",
   "version": "3.12.7"
  }
 },
 "nbformat": 4,
 "nbformat_minor": 5
}
